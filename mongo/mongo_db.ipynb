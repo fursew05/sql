{
 "cells": [
  {
   "cell_type": "markdown",
   "metadata": {},
   "source": [
    "### MongoDB Python 연동\n",
    "\n",
    "- 라이브러리 설치(pymongo)\n",
    "- 라이브러리 로드\n",
    "- 서버와의 연결"
   ]
  },
  {
   "cell_type": "code",
   "execution_count": 2,
   "metadata": {},
   "outputs": [],
   "source": [
    "#라이브러리 설치\n",
    "#!pip install pymongo\n",
    "\n",
    "from pymongo import MongoClient"
   ]
  },
  {
   "cell_type": "code",
   "execution_count": 3,
   "metadata": {},
   "outputs": [],
   "source": [
    "# 서버와의 연결\n",
    "client = MongoClient(\n",
    "    host = '127.0.0.1',\n",
    "    port = 27017\n",
    ")"
   ]
  },
  {
   "cell_type": "code",
   "execution_count": 4,
   "metadata": {},
   "outputs": [
    {
     "data": {
      "text/plain": [
       "['admin', 'config', 'local', 'ubion', 'ubion2']"
      ]
     },
     "execution_count": 4,
     "metadata": {},
     "output_type": "execute_result"
    }
   ],
   "source": [
    "# 데이터베이스 목록 확인\n",
    "client.list_database_names()"
   ]
  },
  {
   "cell_type": "code",
   "execution_count": 6,
   "metadata": {},
   "outputs": [],
   "source": [
    "# 기존에 존재하지않은 데이터베이스 선택\n",
    "db = client['ubion2']"
   ]
  },
  {
   "cell_type": "code",
   "execution_count": 8,
   "metadata": {},
   "outputs": [],
   "source": [
    "# collection 생성\n",
    "collection = db['users']"
   ]
  },
  {
   "cell_type": "code",
   "execution_count": 9,
   "metadata": {},
   "outputs": [
    {
     "data": {
      "text/plain": [
       "InsertOneResult(ObjectId('67ef3f87ced1ca184ae75a37'), acknowledged=True)"
      ]
     },
     "execution_count": 9,
     "metadata": {},
     "output_type": "execute_result"
    }
   ],
   "source": [
    "data = {\n",
    "    'id' : 'test',\n",
    "    'pass' : '1234'\n",
    "}\n",
    "collection.insert_one(data)"
   ]
  },
  {
   "cell_type": "code",
   "execution_count": 10,
   "metadata": {},
   "outputs": [
    {
     "data": {
      "text/plain": [
       "['admin', 'config', 'local', 'ubion', 'ubion2']"
      ]
     },
     "execution_count": 10,
     "metadata": {},
     "output_type": "execute_result"
    }
   ],
   "source": [
    "client.list_database_names()"
   ]
  },
  {
   "cell_type": "code",
   "execution_count": null,
   "metadata": {},
   "outputs": [
    {
     "data": {
      "text/plain": [
       "InsertManyResult([ObjectId('67ef4346ced1ca184ae75a38'), ObjectId('67ef4346ced1ca184ae75a39')], acknowledged=True)"
      ]
     },
     "execution_count": 12,
     "metadata": {},
     "output_type": "execute_result"
    }
   ],
   "source": [
    "data = [\n",
    "    {\n",
    "        'name' : 'kim',\n",
    "        'phone' : '01011112222',\n",
    "        'gender' : 'male'\n",
    "    },\n",
    "    {\n",
    "        'loc' : 'seoul'\n",
    "    }\n",
    "]\n",
    "#생성\n",
    "collection.insert_many(data)"
   ]
  },
  {
   "cell_type": "code",
   "execution_count": 14,
   "metadata": {},
   "outputs": [
    {
     "data": {
      "text/plain": [
       "[{'_id': ObjectId('67ef3f87ced1ca184ae75a37'), 'id': 'test', 'pass': '1234'},\n",
       " {'_id': ObjectId('67ef4346ced1ca184ae75a38'),\n",
       "  'name': 'kim',\n",
       "  'phone': '01011112222',\n",
       "  'gender': 'male'},\n",
       " {'_id': ObjectId('67ef4346ced1ca184ae75a39'), 'loc': 'seoul'}]"
      ]
     },
     "execution_count": 14,
     "metadata": {},
     "output_type": "execute_result"
    }
   ],
   "source": [
    "list(collection.find())"
   ]
  },
  {
   "cell_type": "code",
   "execution_count": 15,
   "metadata": {},
   "outputs": [
    {
     "data": {
      "text/plain": [
       "{'_id': ObjectId('67ef3f87ced1ca184ae75a37'), 'id': 'test', 'pass': '1234'}"
      ]
     },
     "execution_count": 15,
     "metadata": {},
     "output_type": "execute_result"
    }
   ],
   "source": [
    "collection.find_one()"
   ]
  },
  {
   "cell_type": "code",
   "execution_count": null,
   "metadata": {},
   "outputs": [
    {
     "data": {
      "text/plain": [
       "[{'name': 'kim', 'phone': '01011112222', 'gender': 'male'}]"
      ]
     },
     "execution_count": 17,
     "metadata": {},
     "output_type": "execute_result"
    }
   ],
   "source": [
    "#find()는 인자값으로 옵션의 값들을 대입(조회)\n",
    "list(\n",
    "    collection.find(\n",
    "        {'name':'kim'}\n",
    "    ,   {'_id' : 0})\n",
    ")"
   ]
  },
  {
   "cell_type": "code",
   "execution_count": null,
   "metadata": {},
   "outputs": [],
   "source": [
    "# 수정\n",
    "collection.update_one(\n",
    "    {\n",
    "        'id' : 'test'\n",
    "    },{ $set :\n",
    "        {\n",
    "        'pass' : '0000'\n",
    "    }}\n",
    ")\n",
    "# SQL -> UPDATE `users` SET `pass` = '0000' WHERE `id` = 'test'"
   ]
  },
  {
   "cell_type": "code",
   "execution_count": 19,
   "metadata": {},
   "outputs": [
    {
     "data": {
      "text/plain": [
       "DeleteResult({'n': 1, 'ok': 1.0}, acknowledged=True)"
      ]
     },
     "execution_count": 19,
     "metadata": {},
     "output_type": "execute_result"
    }
   ],
   "source": [
    "# 삭제\n",
    "collection.delete_one(\n",
    "    {'id' : 'test'}\n",
    ")\n",
    "\n",
    "# SQL -> DELETE FROM `users` WHERE `id` = 'test'"
   ]
  },
  {
   "cell_type": "code",
   "execution_count": 20,
   "metadata": {},
   "outputs": [
    {
     "data": {
      "text/plain": [
       "[{'_id': ObjectId('67ef4346ced1ca184ae75a38'),\n",
       "  'name': 'kim',\n",
       "  'phone': '01011112222',\n",
       "  'gender': 'male'},\n",
       " {'_id': ObjectId('67ef4346ced1ca184ae75a39'), 'loc': 'seoul'}]"
      ]
     },
     "execution_count": 20,
     "metadata": {},
     "output_type": "execute_result"
    }
   ],
   "source": [
    "list(collection.find())"
   ]
  },
  {
   "cell_type": "markdown",
   "metadata": {},
   "source": [
    "### mongoDB select 조건식\n",
    "- find(옵션1, 옵션2, ...)\n",
    "    1. db.collection.find() -> SELECT * FROM TABLE\n",
    "    2. db.collection.find({'id':'test','pass':'1234'}) -> SELECT * FROM TABLE WHERE `id` = 'test' AND `pass` = '1234'\n",
    "    3. db.collection.find({'id':'test'},{'pass':'1234'}) -> SELECT * FROM TABLE WHERE `id` = 'test' OR `pass` = '1234'\n",
    "    4. db.collection.find({},{'id' : 1, 'pass' : 1}) -> SELECT `id`,`pass` FROM TABLE\n",
    "    5. db.collection.find({},{'id' : 0}) -> \n",
    "    6. db.collection.find({'age' : {'$gt' : 25}}) -> SELECT * FROM TABLE WHERE `age` > 25\n",
    "    7. db.collection.find({'age' : {'$lt' : 25}}) -> SELECT * FROM TABLE WHERE `age` < 25\n",
    "    8. db.collection.find({'id' : {/bc/}}) : SELECT * FROM TABLE WHERE `id` LIKE '%bc%'\n",
    "    9. db.collection.find().sort({'id' : 1}) : SELECT * FROM TABLE ORDER BY `id`\n",
    "    10. db.collection.find().sort({'id' : -1}) : SELECT * FROM TABLE ORDER BY `id` DESC\n",
    "    11. db.collection.find().limit(10) : SELECT * FROM TABLE LIMIT 10"
   ]
  },
  {
   "cell_type": "code",
   "execution_count": 5,
   "metadata": {},
   "outputs": [],
   "source": [
    "# mongoDB에서 admin 데이터베이스에서 test라는 collection에 있는 데이터 중\n",
    "# SAL의 값이 1500보다 큰 데이터를 NAME을 기준으로 내림차순 정렬\n",
    "db = client['admin']"
   ]
  },
  {
   "cell_type": "code",
   "execution_count": 11,
   "metadata": {},
   "outputs": [],
   "source": [
    "collection = db['test']"
   ]
  },
  {
   "cell_type": "code",
   "execution_count": 15,
   "metadata": {},
   "outputs": [
    {
     "data": {
      "text/plain": [
       "[{'_id': ObjectId('67ef2afcd18ff78edf8582ba'),\n",
       "  'EMPNO': 7788.0,\n",
       "  'ENAME': 'SCOTT',\n",
       "  'JOB': 'ANALYST',\n",
       "  'MGR': 7566.0,\n",
       "  'HIREDATE': datetime.datetime(1987, 6, 28, 0, 0),\n",
       "  'SAL': 3000.0,\n",
       "  'COMM': 0.0,\n",
       "  'DEPTNO': 20.0},\n",
       " {'_id': ObjectId('67ef2afcd18ff78edf8582bb'),\n",
       "  'EMPNO': 7839.0,\n",
       "  'ENAME': 'KING',\n",
       "  'JOB': 'PRESIDENT',\n",
       "  'MGR': 0.0,\n",
       "  'HIREDATE': datetime.datetime(1981, 11, 17, 0, 0),\n",
       "  'SAL': 5000.0,\n",
       "  'COMM': 0.0,\n",
       "  'DEPTNO': 10.0},\n",
       " {'_id': ObjectId('67ef2afcd18ff78edf8582b6'),\n",
       "  'EMPNO': 7566.0,\n",
       "  'ENAME': 'JONES',\n",
       "  'JOB': 'MANAGER',\n",
       "  'MGR': 7839.0,\n",
       "  'HIREDATE': datetime.datetime(1981, 4, 2, 0, 0),\n",
       "  'SAL': 2975.0,\n",
       "  'COMM': 0.0,\n",
       "  'DEPTNO': 20.0},\n",
       " {'_id': ObjectId('67ef2afcd18ff78edf8582bf'),\n",
       "  'EMPNO': 7902.0,\n",
       "  'ENAME': 'FORD',\n",
       "  'JOB': 'ANALYST',\n",
       "  'MGR': 7566.0,\n",
       "  'HIREDATE': datetime.datetime(1981, 12, 3, 0, 0),\n",
       "  'SAL': 3000.0,\n",
       "  'COMM': 0.0,\n",
       "  'DEPTNO': 20.0},\n",
       " {'_id': ObjectId('67ef2afcd18ff78edf8582b9'),\n",
       "  'EMPNO': 7782.0,\n",
       "  'ENAME': 'CLARK',\n",
       "  'JOB': 'MANAGER',\n",
       "  'MGR': 7839.0,\n",
       "  'HIREDATE': datetime.datetime(1981, 6, 9, 0, 0),\n",
       "  'SAL': 2450.0,\n",
       "  'COMM': 0.0,\n",
       "  'DEPTNO': 10.0},\n",
       " {'_id': ObjectId('67ef2afcd18ff78edf8582b8'),\n",
       "  'EMPNO': 7698.0,\n",
       "  'ENAME': 'BLAKE',\n",
       "  'JOB': 'MANAGER',\n",
       "  'MGR': 7839.0,\n",
       "  'HIREDATE': datetime.datetime(1981, 5, 1, 0, 0),\n",
       "  'SAL': 2850.0,\n",
       "  'COMM': 0.0,\n",
       "  'DEPTNO': 30.0},\n",
       " {'_id': ObjectId('67ef2afcd18ff78edf8582b4'),\n",
       "  'EMPNO': 7499.0,\n",
       "  'ENAME': 'ALLEN',\n",
       "  'JOB': 'SALESMAN',\n",
       "  'MGR': 7698.0,\n",
       "  'HIREDATE': datetime.datetime(1981, 2, 20, 0, 0),\n",
       "  'SAL': 1600.0,\n",
       "  'COMM': 300.0,\n",
       "  'DEPTNO': 30.0}]"
      ]
     },
     "execution_count": 15,
     "metadata": {},
     "output_type": "execute_result"
    }
   ],
   "source": [
    "list(collection.find({'SAL':{\"$gt\":1500}}).sort({'ENAME':-1}))"
   ]
  },
  {
   "cell_type": "code",
   "execution_count": 17,
   "metadata": {},
   "outputs": [
    {
     "data": {
      "text/plain": [
       "[{'_id': ObjectId('67ef2afcd18ff78edf8582ba'),\n",
       "  'EMPNO': 7788.0,\n",
       "  'ENAME': 'SCOTT',\n",
       "  'JOB': 'ANALYST',\n",
       "  'MGR': 7566.0,\n",
       "  'HIREDATE': datetime.datetime(1987, 6, 28, 0, 0),\n",
       "  'SAL': 3000.0,\n",
       "  'COMM': 0.0,\n",
       "  'DEPTNO': 20.0},\n",
       " {'_id': ObjectId('67ef2afcd18ff78edf8582bb'),\n",
       "  'EMPNO': 7839.0,\n",
       "  'ENAME': 'KING',\n",
       "  'JOB': 'PRESIDENT',\n",
       "  'MGR': 0.0,\n",
       "  'HIREDATE': datetime.datetime(1981, 11, 17, 0, 0),\n",
       "  'SAL': 5000.0,\n",
       "  'COMM': 0.0,\n",
       "  'DEPTNO': 10.0},\n",
       " {'_id': ObjectId('67ef2afcd18ff78edf8582b6'),\n",
       "  'EMPNO': 7566.0,\n",
       "  'ENAME': 'JONES',\n",
       "  'JOB': 'MANAGER',\n",
       "  'MGR': 7839.0,\n",
       "  'HIREDATE': datetime.datetime(1981, 4, 2, 0, 0),\n",
       "  'SAL': 2975.0,\n",
       "  'COMM': 0.0,\n",
       "  'DEPTNO': 20.0},\n",
       " {'_id': ObjectId('67ef2afcd18ff78edf8582bf'),\n",
       "  'EMPNO': 7902.0,\n",
       "  'ENAME': 'FORD',\n",
       "  'JOB': 'ANALYST',\n",
       "  'MGR': 7566.0,\n",
       "  'HIREDATE': datetime.datetime(1981, 12, 3, 0, 0),\n",
       "  'SAL': 3000.0,\n",
       "  'COMM': 0.0,\n",
       "  'DEPTNO': 20.0},\n",
       " {'_id': ObjectId('67ef2afcd18ff78edf8582b9'),\n",
       "  'EMPNO': 7782.0,\n",
       "  'ENAME': 'CLARK',\n",
       "  'JOB': 'MANAGER',\n",
       "  'MGR': 7839.0,\n",
       "  'HIREDATE': datetime.datetime(1981, 6, 9, 0, 0),\n",
       "  'SAL': 2450.0,\n",
       "  'COMM': 0.0,\n",
       "  'DEPTNO': 10.0},\n",
       " {'_id': ObjectId('67ef2afcd18ff78edf8582b8'),\n",
       "  'EMPNO': 7698.0,\n",
       "  'ENAME': 'BLAKE',\n",
       "  'JOB': 'MANAGER',\n",
       "  'MGR': 7839.0,\n",
       "  'HIREDATE': datetime.datetime(1981, 5, 1, 0, 0),\n",
       "  'SAL': 2850.0,\n",
       "  'COMM': 0.0,\n",
       "  'DEPTNO': 30.0},\n",
       " {'_id': ObjectId('67ef2afcd18ff78edf8582b4'),\n",
       "  'EMPNO': 7499.0,\n",
       "  'ENAME': 'ALLEN',\n",
       "  'JOB': 'SALESMAN',\n",
       "  'MGR': 7698.0,\n",
       "  'HIREDATE': datetime.datetime(1981, 2, 20, 0, 0),\n",
       "  'SAL': 1600.0,\n",
       "  'COMM': 300.0,\n",
       "  'DEPTNO': 30.0}]"
      ]
     },
     "execution_count": 17,
     "metadata": {},
     "output_type": "execute_result"
    }
   ],
   "source": [
    "list(client['admin']['test'].find(\n",
    "    {'SAL':{'$gt' : 1500}}\n",
    ").sort({'ENAME':-1}))"
   ]
  }
 ],
 "metadata": {
  "kernelspec": {
   "display_name": "Python 3",
   "language": "python",
   "name": "python3"
  },
  "language_info": {
   "codemirror_mode": {
    "name": "ipython",
    "version": 3
   },
   "file_extension": ".py",
   "mimetype": "text/x-python",
   "name": "python",
   "nbconvert_exporter": "python",
   "pygments_lexer": "ipython3",
   "version": "3.13.2"
  }
 },
 "nbformat": 4,
 "nbformat_minor": 2
}
